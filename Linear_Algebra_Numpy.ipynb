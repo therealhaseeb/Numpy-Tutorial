{
  "nbformat": 4,
  "nbformat_minor": 0,
  "metadata": {
    "colab": {
      "name": "Linear_Algebra_Numpy.ipynb",
      "provenance": [],
      "collapsed_sections": [],
      "authorship_tag": "ABX9TyPzWCwdvAaTas+yIU3FCHdV",
      "include_colab_link": true
    },
    "kernelspec": {
      "name": "python3",
      "display_name": "Python 3"
    },
    "language_info": {
      "name": "python"
    }
  },
  "cells": [
    {
      "cell_type": "markdown",
      "metadata": {
        "id": "view-in-github",
        "colab_type": "text"
      },
      "source": [
        "<a href=\"https://colab.research.google.com/github/therealhaseeb/Numpy-Tutorial/blob/main/Linear_Algebra_Numpy.ipynb\" target=\"_parent\"><img src=\"https://colab.research.google.com/assets/colab-badge.svg\" alt=\"Open In Colab\"/></a>"
      ]
    },
    {
      "cell_type": "code",
      "metadata": {
        "id": "OoAQiXHSD8Bf"
      },
      "source": [
        "import numpy as np"
      ],
      "execution_count": 1,
      "outputs": []
    },
    {
      "cell_type": "markdown",
      "metadata": {
        "id": "zK3-JLmvEG9W"
      },
      "source": [
        "Create an array from an iterable\n",
        "Such as\n",
        "*   list\n",
        "*   tuple\n",
        "*   range iterator\n",
        "\n",
        "Notice that not all iterables can be used to create a numpy array, such as set and dict\n",
        "\n"
      ]
    },
    {
      "cell_type": "code",
      "metadata": {
        "colab": {
          "base_uri": "https://localhost:8080/"
        },
        "id": "_oNdrd2PEC8Q",
        "outputId": "56448d95-47d4-4901-9ae8-250ac039d3f3"
      },
      "source": [
        "arr = np.array([1,2,3,4,5])\n",
        "print(arr)"
      ],
      "execution_count": 2,
      "outputs": [
        {
          "output_type": "stream",
          "text": [
            "[1 2 3 4 5]\n"
          ],
          "name": "stdout"
        }
      ]
    },
    {
      "cell_type": "code",
      "metadata": {
        "colab": {
          "base_uri": "https://localhost:8080/"
        },
        "id": "esW0j_yGEWuG",
        "outputId": "78fea630-dc8f-4b6c-d4ad-d489918201ab"
      },
      "source": [
        "arr = np.array((1,2,3,4,5))\n",
        "print(arr)"
      ],
      "execution_count": 3,
      "outputs": [
        {
          "output_type": "stream",
          "text": [
            "[1 2 3 4 5]\n"
          ],
          "name": "stdout"
        }
      ]
    },
    {
      "cell_type": "code",
      "metadata": {
        "colab": {
          "base_uri": "https://localhost:8080/"
        },
        "id": "vDTbO9yiEYCc",
        "outputId": "bf41f1e6-45d1-4e82-c9f9-05a614c4205e"
      },
      "source": [
        "arr = np.array(range(10))\n",
        "print(arr)"
      ],
      "execution_count": 4,
      "outputs": [
        {
          "output_type": "stream",
          "text": [
            "[0 1 2 3 4 5 6 7 8 9]\n"
          ],
          "name": "stdout"
        }
      ]
    },
    {
      "cell_type": "markdown",
      "metadata": {
        "id": "LOpX9ye7E3Lm"
      },
      "source": [
        "Create an array with specified data type\n"
      ]
    },
    {
      "cell_type": "code",
      "metadata": {
        "colab": {
          "base_uri": "https://localhost:8080/"
        },
        "id": "rpf922b3EZWT",
        "outputId": "221b5352-b274-405a-ba4a-518eeb060e97"
      },
      "source": [
        "arr = np.array([[1,2,3], [4,5,6]], dtype='int32')\n",
        "print(arr)\n",
        "print('Data Type: ' + str(arr.dtype))"
      ],
      "execution_count": 6,
      "outputs": [
        {
          "output_type": "stream",
          "text": [
            "[[1 2 3]\n",
            " [4 5 6]]\n",
            "Data Type: int32\n"
          ],
          "name": "stdout"
        }
      ]
    },
    {
      "cell_type": "code",
      "metadata": {
        "colab": {
          "base_uri": "https://localhost:8080/"
        },
        "id": "ilNzAvwTE7ie",
        "outputId": "f6941f96-1b21-422d-b0c9-da2da2ad1a5a"
      },
      "source": [
        "# np.arange(start, stop, step)\n",
        "arr = np.arange(0, 20, 2)  \n",
        "print(arr)"
      ],
      "execution_count": 7,
      "outputs": [
        {
          "output_type": "stream",
          "text": [
            "[ 0  2  4  6  8 10 12 14 16 18]\n"
          ],
          "name": "stdout"
        }
      ]
    },
    {
      "cell_type": "markdown",
      "metadata": {
        "id": "xH1QEQ3tFtr1"
      },
      "source": [
        "inspect general information of an array\n"
      ]
    },
    {
      "cell_type": "code",
      "metadata": {
        "colab": {
          "base_uri": "https://localhost:8080/"
        },
        "id": "82ZPrLq0E_sq",
        "outputId": "ac2d28f0-9d69-4a44-8adb-fdd37d4fa7b7"
      },
      "source": [
        "arr1 = np.array([[1,2,3], [4,5,6]], dtype=np.int64)\n",
        "\n",
        "print(arr1.shape)"
      ],
      "execution_count": 14,
      "outputs": [
        {
          "output_type": "stream",
          "text": [
            "(2, 3)\n"
          ],
          "name": "stdout"
        }
      ]
    },
    {
      "cell_type": "code",
      "metadata": {
        "colab": {
          "base_uri": "https://localhost:8080/"
        },
        "id": "J_Iu6b5AGMR8",
        "outputId": "ee26b2af-0433-43bf-ce78-019330af8c3e"
      },
      "source": [
        "print(arr.dtype)\n"
      ],
      "execution_count": 15,
      "outputs": [
        {
          "output_type": "stream",
          "text": [
            "int64\n"
          ],
          "name": "stdout"
        }
      ]
    },
    {
      "cell_type": "code",
      "metadata": {
        "colab": {
          "base_uri": "https://localhost:8080/"
        },
        "id": "8qjPsA-UGOZ3",
        "outputId": "ce98299b-1e81-4ea9-85a2-768bfabb3eca"
      },
      "source": [
        "print(len(arr))\n"
      ],
      "execution_count": 16,
      "outputs": [
        {
          "output_type": "stream",
          "text": [
            "2\n"
          ],
          "name": "stdout"
        }
      ]
    },
    {
      "cell_type": "code",
      "metadata": {
        "colab": {
          "base_uri": "https://localhost:8080/"
        },
        "id": "piD6vARnGQPd",
        "outputId": "5347b281-7e26-4d11-aecd-0d5a68755778"
      },
      "source": [
        "print(arr.ndim)\n"
      ],
      "execution_count": 17,
      "outputs": [
        {
          "output_type": "stream",
          "text": [
            "2\n"
          ],
          "name": "stdout"
        }
      ]
    },
    {
      "cell_type": "code",
      "metadata": {
        "colab": {
          "base_uri": "https://localhost:8080/"
        },
        "id": "HpI6JvlaGRlB",
        "outputId": "49953237-9cee-44c6-e993-cb84afc8608b"
      },
      "source": [
        "print(arr.size)\n"
      ],
      "execution_count": 18,
      "outputs": [
        {
          "output_type": "stream",
          "text": [
            "6\n"
          ],
          "name": "stdout"
        }
      ]
    },
    {
      "cell_type": "code",
      "metadata": {
        "colab": {
          "base_uri": "https://localhost:8080/"
        },
        "id": "eWSGKcXOFwao",
        "outputId": "6ab15e64-8fb5-44b8-da33-735724d76d98"
      },
      "source": [
        "arr = np.random.rand(5,5)\n",
        "arr"
      ],
      "execution_count": 25,
      "outputs": [
        {
          "output_type": "execute_result",
          "data": {
            "text/plain": [
              "array([[0.29371405, 0.63097612, 0.09210494, 0.43370117, 0.43086276],\n",
              "       [0.4936851 , 0.42583029, 0.31226122, 0.42635131, 0.89338916],\n",
              "       [0.94416002, 0.50183668, 0.62395295, 0.1156184 , 0.31728548],\n",
              "       [0.41482621, 0.86630916, 0.25045537, 0.48303426, 0.98555979],\n",
              "       [0.51948512, 0.61289453, 0.12062867, 0.8263408 , 0.60306013]])"
            ]
          },
          "metadata": {
            "tags": []
          },
          "execution_count": 25
        }
      ]
    },
    {
      "cell_type": "markdown",
      "metadata": {
        "id": "RWXXpjf1G4oa"
      },
      "source": [
        "element-wise operations\n"
      ]
    },
    {
      "cell_type": "code",
      "metadata": {
        "colab": {
          "base_uri": "https://localhost:8080/"
        },
        "id": "UniGa-UWG2ET",
        "outputId": "024b2657-14d7-427e-d70c-4b9f4447e4f3"
      },
      "source": [
        "print(arr + 10)"
      ],
      "execution_count": 27,
      "outputs": [
        {
          "output_type": "stream",
          "text": [
            "[[10.29371405 10.63097612 10.09210494 10.43370117 10.43086276]\n",
            " [10.4936851  10.42583029 10.31226122 10.42635131 10.89338916]\n",
            " [10.94416002 10.50183668 10.62395295 10.1156184  10.31728548]\n",
            " [10.41482621 10.86630916 10.25045537 10.48303426 10.98555979]\n",
            " [10.51948512 10.61289453 10.12062867 10.8263408  10.60306013]]\n"
          ],
          "name": "stdout"
        }
      ]
    },
    {
      "cell_type": "code",
      "metadata": {
        "colab": {
          "base_uri": "https://localhost:8080/"
        },
        "id": "jGIjR2LPHAWZ",
        "outputId": "701cb573-b93c-4da3-a9cb-54debb9655ea"
      },
      "source": [
        "print(arr - 10)"
      ],
      "execution_count": 28,
      "outputs": [
        {
          "output_type": "stream",
          "text": [
            "[[-9.70628595 -9.36902388 -9.90789506 -9.56629883 -9.56913724]\n",
            " [-9.5063149  -9.57416971 -9.68773878 -9.57364869 -9.10661084]\n",
            " [-9.05583998 -9.49816332 -9.37604705 -9.8843816  -9.68271452]\n",
            " [-9.58517379 -9.13369084 -9.74954463 -9.51696574 -9.01444021]\n",
            " [-9.48051488 -9.38710547 -9.87937133 -9.1736592  -9.39693987]]\n"
          ],
          "name": "stdout"
        }
      ]
    },
    {
      "cell_type": "code",
      "metadata": {
        "colab": {
          "base_uri": "https://localhost:8080/"
        },
        "id": "rht-HhuvHCA5",
        "outputId": "803b0044-fa67-4ce0-f598-cc05202180da"
      },
      "source": [
        "print(arr * 10)"
      ],
      "execution_count": 29,
      "outputs": [
        {
          "output_type": "stream",
          "text": [
            "[[2.93714046 6.30976124 0.9210494  4.33701173 4.30862763]\n",
            " [4.93685098 4.2583029  3.12261223 4.26351307 8.93389163]\n",
            " [9.44160018 5.01836676 6.23952952 1.15618395 3.17285482]\n",
            " [4.14826212 8.66309158 2.50455365 4.83034264 9.85559786]\n",
            " [5.19485119 6.12894526 1.20628666 8.26340801 6.03060128]]\n"
          ],
          "name": "stdout"
        }
      ]
    },
    {
      "cell_type": "code",
      "metadata": {
        "colab": {
          "base_uri": "https://localhost:8080/"
        },
        "id": "NRDmwG-bHDWw",
        "outputId": "be688cc7-2e75-473f-e3c0-e3005126a997"
      },
      "source": [
        "print(arr / 10)"
      ],
      "execution_count": 30,
      "outputs": [
        {
          "output_type": "stream",
          "text": [
            "[[0.0293714  0.06309761 0.00921049 0.04337012 0.04308628]\n",
            " [0.04936851 0.04258303 0.03122612 0.04263513 0.08933892]\n",
            " [0.094416   0.05018367 0.0623953  0.01156184 0.03172855]\n",
            " [0.04148262 0.08663092 0.02504554 0.04830343 0.09855598]\n",
            " [0.05194851 0.06128945 0.01206287 0.08263408 0.06030601]]\n"
          ],
          "name": "stdout"
        }
      ]
    },
    {
      "cell_type": "code",
      "metadata": {
        "colab": {
          "base_uri": "https://localhost:8080/"
        },
        "id": "JBuVSeh5HDyt",
        "outputId": "65e2f67b-8aaa-4def-aee0-2646fb18410b"
      },
      "source": [
        "print(np.log(arr))\n"
      ],
      "execution_count": 31,
      "outputs": [
        {
          "output_type": "stream",
          "text": [
            "[[-1.22514862 -0.46048726 -2.3848267  -0.83539952 -0.84196565]\n",
            " [-0.70585742 -0.85371439 -1.16391519 -0.85249161 -0.112733  ]\n",
            " [-0.05745962 -0.68948056 -0.47168031 -2.15746021 -1.14795334]\n",
            " [-0.87989561 -0.14351344 -1.38447456 -0.72766769 -0.01454549]\n",
            " [-0.65491711 -0.48956242 -2.11503833 -0.190748   -0.50573837]]\n"
          ],
          "name": "stdout"
        }
      ]
    },
    {
      "cell_type": "code",
      "metadata": {
        "colab": {
          "base_uri": "https://localhost:8080/"
        },
        "id": "ZmSLq-ltHFQ_",
        "outputId": "cca2dee8-08b3-4d18-8516-1100ebfcf1ba"
      },
      "source": [
        "print(np.exp(arr))\n"
      ],
      "execution_count": 32,
      "outputs": [
        {
          "output_type": "stream",
          "text": [
            "[[1.34140027 1.87944425 1.09647988 1.54295772 1.53858439]\n",
            " [1.63834256 1.53086095 1.36651161 1.53165876 2.4433967 ]\n",
            " [2.57065317 1.65175222 1.86629084 1.12256741 1.3733946 ]\n",
            " [1.51410758 2.37811738 1.28461025 1.62098545 2.6793113 ]\n",
            " [1.68116183 1.84576629 1.12820589 2.28494236 1.82770326]]\n"
          ],
          "name": "stdout"
        }
      ]
    },
    {
      "cell_type": "code",
      "metadata": {
        "colab": {
          "base_uri": "https://localhost:8080/"
        },
        "id": "876XTAO8HGm0",
        "outputId": "2b2be8f3-746d-4f13-8f0e-3eceb88c2b52"
      },
      "source": [
        "print(np.sqrt(arr))\n"
      ],
      "execution_count": 33,
      "outputs": [
        {
          "output_type": "stream",
          "text": [
            "[[0.54195392 0.79434006 0.30348796 0.65855992 0.65640137]\n",
            " [0.70262728 0.65255673 0.55880338 0.65295582 0.94519266]\n",
            " [0.97167897 0.70840432 0.78990693 0.34002705 0.563281  ]\n",
            " [0.64407004 0.9307573  0.50045516 0.69500666 0.99275364]\n",
            " [0.72075316 0.7828758  0.34731638 0.90903289 0.77656946]]\n"
          ],
          "name": "stdout"
        }
      ]
    },
    {
      "cell_type": "code",
      "metadata": {
        "colab": {
          "base_uri": "https://localhost:8080/"
        },
        "id": "eucApgciHITk",
        "outputId": "c88b8226-1cc5-4023-8813-89b9b346f035"
      },
      "source": [
        "print(np.sin(arr))\n"
      ],
      "execution_count": 34,
      "outputs": [
        {
          "output_type": "stream",
          "text": [
            "[[0.28950921 0.58993321 0.09197477 0.42023218 0.41765487]\n",
            " [0.47387417 0.41307707 0.30721129 0.4135515  0.77920046]\n",
            " [0.81000463 0.48103656 0.58424783 0.11536098 0.31198869]\n",
            " [0.40303089 0.76194378 0.24784514 0.46446842 0.83358144]\n",
            " [0.49643325 0.57523755 0.12033633 0.73545693 0.56716546]]\n"
          ],
          "name": "stdout"
        }
      ]
    },
    {
      "cell_type": "code",
      "metadata": {
        "colab": {
          "base_uri": "https://localhost:8080/"
        },
        "id": "K7XsrpcIHJ4K",
        "outputId": "f206c013-e11c-400b-904f-86156a95ef6d"
      },
      "source": [
        "print(np.cos(arr))\n"
      ],
      "execution_count": 35,
      "outputs": [
        {
          "output_type": "stream",
          "text": [
            "[[0.95717523 0.80745205 0.99576134 0.90741662 0.90860575]\n",
            " [0.88059257 0.91069607 0.95164133 0.91048073 0.62677479]\n",
            " [0.58642347 0.87670053 0.8115753  0.99332364 0.95008582]\n",
            " [0.91518638 0.64764317 0.96879966 0.88558968 0.55239657]\n",
            " [0.8680749  0.81798641 0.99273318 0.67757147 0.82360387]]\n"
          ],
          "name": "stdout"
        }
      ]
    },
    {
      "cell_type": "code",
      "metadata": {
        "colab": {
          "base_uri": "https://localhost:8080/"
        },
        "id": "-s3OFRVYHKxY",
        "outputId": "5c3ace65-f7c6-42b3-ea80-680820810aab"
      },
      "source": [
        "arr = np.random.rand(10)\n",
        "arr"
      ],
      "execution_count": 36,
      "outputs": [
        {
          "output_type": "execute_result",
          "data": {
            "text/plain": [
              "array([0.54506801, 0.34276383, 0.30412079, 0.41702221, 0.68130077,\n",
              "       0.87545684, 0.51042234, 0.66931378, 0.58593655, 0.6249035 ])"
            ]
          },
          "metadata": {
            "tags": []
          },
          "execution_count": 36
        }
      ]
    },
    {
      "cell_type": "code",
      "metadata": {
        "colab": {
          "base_uri": "https://localhost:8080/"
        },
        "id": "J_SsX0oeHTm6",
        "outputId": "231eb7b9-a379-4d9a-b26d-a097d48a3a14"
      },
      "source": [
        "print(np.mean(arr))\n"
      ],
      "execution_count": 37,
      "outputs": [
        {
          "output_type": "stream",
          "text": [
            "0.5556308622978727\n"
          ],
          "name": "stdout"
        }
      ]
    },
    {
      "cell_type": "code",
      "metadata": {
        "colab": {
          "base_uri": "https://localhost:8080/"
        },
        "id": "2NL4WRKUHVP3",
        "outputId": "1ee249b5-33d2-4da7-8148-d637751d397b"
      },
      "source": [
        "print(np.median(arr))\n"
      ],
      "execution_count": 38,
      "outputs": [
        {
          "output_type": "stream",
          "text": [
            "0.565502279514339\n"
          ],
          "name": "stdout"
        }
      ]
    },
    {
      "cell_type": "code",
      "metadata": {
        "colab": {
          "base_uri": "https://localhost:8080/"
        },
        "id": "C8M_iFwjHXY2",
        "outputId": "a2e9d315-7924-4ad0-e326-8817ad52b94c"
      },
      "source": [
        "print(np.std(arr))\n"
      ],
      "execution_count": 39,
      "outputs": [
        {
          "output_type": "stream",
          "text": [
            "0.16329726065678934\n"
          ],
          "name": "stdout"
        }
      ]
    },
    {
      "cell_type": "code",
      "metadata": {
        "colab": {
          "base_uri": "https://localhost:8080/"
        },
        "id": "udTxB4QBHZzZ",
        "outputId": "f89cc268-0b5d-4424-a4dc-758ae67b3bb3"
      },
      "source": [
        "arr = np.array(range(100)).reshape((10,10))\n",
        "arr"
      ],
      "execution_count": 40,
      "outputs": [
        {
          "output_type": "execute_result",
          "data": {
            "text/plain": [
              "array([[ 0,  1,  2,  3,  4,  5,  6,  7,  8,  9],\n",
              "       [10, 11, 12, 13, 14, 15, 16, 17, 18, 19],\n",
              "       [20, 21, 22, 23, 24, 25, 26, 27, 28, 29],\n",
              "       [30, 31, 32, 33, 34, 35, 36, 37, 38, 39],\n",
              "       [40, 41, 42, 43, 44, 45, 46, 47, 48, 49],\n",
              "       [50, 51, 52, 53, 54, 55, 56, 57, 58, 59],\n",
              "       [60, 61, 62, 63, 64, 65, 66, 67, 68, 69],\n",
              "       [70, 71, 72, 73, 74, 75, 76, 77, 78, 79],\n",
              "       [80, 81, 82, 83, 84, 85, 86, 87, 88, 89],\n",
              "       [90, 91, 92, 93, 94, 95, 96, 97, 98, 99]])"
            ]
          },
          "metadata": {
            "tags": []
          },
          "execution_count": 40
        }
      ]
    },
    {
      "cell_type": "code",
      "metadata": {
        "colab": {
          "base_uri": "https://localhost:8080/"
        },
        "id": "BXpbnNi5Hi2E",
        "outputId": "2eff17e9-d3a0-4431-9c2d-d2f2d5cc1b38"
      },
      "source": [
        "print(arr[5][5])\n",
        "# or more concisely\n",
        "print(arr[5,5])\n"
      ],
      "execution_count": 41,
      "outputs": [
        {
          "output_type": "stream",
          "text": [
            "55\n",
            "55\n"
          ],
          "name": "stdout"
        }
      ]
    },
    {
      "cell_type": "code",
      "metadata": {
        "colab": {
          "base_uri": "https://localhost:8080/"
        },
        "id": "jEkgulrfHl5Y",
        "outputId": "c162f1c2-029c-49f0-e0cb-554aa9028893"
      },
      "source": [
        "print(arr[1:3, 4:6])\n"
      ],
      "execution_count": 42,
      "outputs": [
        {
          "output_type": "stream",
          "text": [
            "[[14 15]\n",
            " [24 25]]\n"
          ],
          "name": "stdout"
        }
      ]
    },
    {
      "cell_type": "code",
      "metadata": {
        "colab": {
          "base_uri": "https://localhost:8080/"
        },
        "id": "IhM8FK3MH73_",
        "outputId": "46f01178-2ae4-45f1-826c-60d51e055386"
      },
      "source": [
        "print(arr)"
      ],
      "execution_count": 44,
      "outputs": [
        {
          "output_type": "stream",
          "text": [
            "[[ 0  1  2  3  4  5  6  7  8  9]\n",
            " [10 11 12 13 14 15 16 17 18 19]\n",
            " [20 21 22 23 24 25 26 27 28 29]\n",
            " [30 31 32 33 34 35 36 37 38 39]\n",
            " [40 41 42 43 44 45 46 47 48 49]\n",
            " [50 51 52 53 54 55 56 57 58 59]\n",
            " [60 61 62 63 64 65 66 67 68 69]\n",
            " [70 71 72 73 74 75 76 77 78 79]\n",
            " [80 81 82 83 84 85 86 87 88 89]\n",
            " [90 91 92 93 94 95 96 97 98 99]]\n"
          ],
          "name": "stdout"
        }
      ]
    },
    {
      "cell_type": "code",
      "metadata": {
        "colab": {
          "base_uri": "https://localhost:8080/"
        },
        "id": "9c4QLjGJHrhJ",
        "outputId": "7500158a-94bd-461a-bae8-0ba632d3651b"
      },
      "source": [
        "print(np.where(arr>5, -1, 10))\n"
      ],
      "execution_count": 43,
      "outputs": [
        {
          "output_type": "stream",
          "text": [
            "[[10 10 10 10 10 10 -1 -1 -1 -1]\n",
            " [-1 -1 -1 -1 -1 -1 -1 -1 -1 -1]\n",
            " [-1 -1 -1 -1 -1 -1 -1 -1 -1 -1]\n",
            " [-1 -1 -1 -1 -1 -1 -1 -1 -1 -1]\n",
            " [-1 -1 -1 -1 -1 -1 -1 -1 -1 -1]\n",
            " [-1 -1 -1 -1 -1 -1 -1 -1 -1 -1]\n",
            " [-1 -1 -1 -1 -1 -1 -1 -1 -1 -1]\n",
            " [-1 -1 -1 -1 -1 -1 -1 -1 -1 -1]\n",
            " [-1 -1 -1 -1 -1 -1 -1 -1 -1 -1]\n",
            " [-1 -1 -1 -1 -1 -1 -1 -1 -1 -1]]\n"
          ],
          "name": "stdout"
        }
      ]
    },
    {
      "cell_type": "code",
      "metadata": {
        "colab": {
          "base_uri": "https://localhost:8080/"
        },
        "id": "JeXxBiFgIIWb",
        "outputId": "acd71f21-8482-40f8-94f8-451581f902b4"
      },
      "source": [
        "arr = np.random.rand(3,5)\n",
        "arr"
      ],
      "execution_count": 51,
      "outputs": [
        {
          "output_type": "execute_result",
          "data": {
            "text/plain": [
              "array([[0.93193215, 0.58217546, 0.20609573, 0.71775756, 0.37898585],\n",
              "       [0.66838395, 0.02931972, 0.63590036, 0.03219793, 0.74478066],\n",
              "       [0.472913  , 0.12175436, 0.54263593, 0.06677444, 0.65336487]])"
            ]
          },
          "metadata": {
            "tags": []
          },
          "execution_count": 51
        }
      ]
    },
    {
      "cell_type": "code",
      "metadata": {
        "colab": {
          "base_uri": "https://localhost:8080/"
        },
        "id": "64xXV8GZH5LT",
        "outputId": "03ee9f66-a2dd-4a90-a3c3-46645ff9ff60"
      },
      "source": [
        "print(arr.T)\n"
      ],
      "execution_count": 52,
      "outputs": [
        {
          "output_type": "stream",
          "text": [
            "[[0.93193215 0.66838395 0.472913  ]\n",
            " [0.58217546 0.02931972 0.12175436]\n",
            " [0.20609573 0.63590036 0.54263593]\n",
            " [0.71775756 0.03219793 0.06677444]\n",
            " [0.37898585 0.74478066 0.65336487]]\n"
          ],
          "name": "stdout"
        }
      ]
    },
    {
      "cell_type": "code",
      "metadata": {
        "colab": {
          "base_uri": "https://localhost:8080/"
        },
        "id": "krA5aahnI-mV",
        "outputId": "81227468-8999-4e33-a543-b212bd980a20"
      },
      "source": [
        "arr = np.random.rand(6,9)\n",
        "arr"
      ],
      "execution_count": 55,
      "outputs": [
        {
          "output_type": "execute_result",
          "data": {
            "text/plain": [
              "array([[0.86545985, 0.02524236, 0.26690581, 0.5020711 , 0.06744864,\n",
              "        0.99303326, 0.2364624 , 0.37429218, 0.21401191],\n",
              "       [0.10544587, 0.23247979, 0.30061014, 0.63444227, 0.28123478,\n",
              "        0.36227676, 0.00594284, 0.36571913, 0.53388598],\n",
              "       [0.16201584, 0.59743311, 0.29315247, 0.63205049, 0.02619661,\n",
              "        0.88759346, 0.01611863, 0.12695803, 0.77716246],\n",
              "       [0.04589523, 0.71099869, 0.97104614, 0.87168293, 0.71016165,\n",
              "        0.95850974, 0.42981334, 0.87287891, 0.35595767],\n",
              "       [0.92976365, 0.14877766, 0.94002901, 0.8327162 , 0.84605484,\n",
              "        0.12392301, 0.5964869 , 0.01639248, 0.72118437],\n",
              "       [0.00773751, 0.08482228, 0.22549841, 0.87512453, 0.36357632,\n",
              "        0.53995994, 0.56810321, 0.22546336, 0.57214677]])"
            ]
          },
          "metadata": {
            "tags": []
          },
          "execution_count": 55
        }
      ]
    },
    {
      "cell_type": "code",
      "metadata": {
        "colab": {
          "base_uri": "https://localhost:8080/"
        },
        "id": "nBeBLNU9IsqU",
        "outputId": "d475e090-c4d5-4a74-decf-bab1afcd01a2"
      },
      "source": [
        "print(arr.reshape((9,6)))\n"
      ],
      "execution_count": 57,
      "outputs": [
        {
          "output_type": "stream",
          "text": [
            "[[0.86545985 0.02524236 0.26690581 0.5020711  0.06744864 0.99303326]\n",
            " [0.2364624  0.37429218 0.21401191 0.10544587 0.23247979 0.30061014]\n",
            " [0.63444227 0.28123478 0.36227676 0.00594284 0.36571913 0.53388598]\n",
            " [0.16201584 0.59743311 0.29315247 0.63205049 0.02619661 0.88759346]\n",
            " [0.01611863 0.12695803 0.77716246 0.04589523 0.71099869 0.97104614]\n",
            " [0.87168293 0.71016165 0.95850974 0.42981334 0.87287891 0.35595767]\n",
            " [0.92976365 0.14877766 0.94002901 0.8327162  0.84605484 0.12392301]\n",
            " [0.5964869  0.01639248 0.72118437 0.00773751 0.08482228 0.22549841]\n",
            " [0.87512453 0.36357632 0.53995994 0.56810321 0.22546336 0.57214677]]\n"
          ],
          "name": "stdout"
        }
      ]
    },
    {
      "cell_type": "code",
      "metadata": {
        "colab": {
          "base_uri": "https://localhost:8080/"
        },
        "id": "RgeJ4xpGIGUF",
        "outputId": "1055176c-cc43-4f60-d5c3-545598c7b979"
      },
      "source": [
        "arr.flatten()\n"
      ],
      "execution_count": 58,
      "outputs": [
        {
          "output_type": "execute_result",
          "data": {
            "text/plain": [
              "array([0.86545985, 0.02524236, 0.26690581, 0.5020711 , 0.06744864,\n",
              "       0.99303326, 0.2364624 , 0.37429218, 0.21401191, 0.10544587,\n",
              "       0.23247979, 0.30061014, 0.63444227, 0.28123478, 0.36227676,\n",
              "       0.00594284, 0.36571913, 0.53388598, 0.16201584, 0.59743311,\n",
              "       0.29315247, 0.63205049, 0.02619661, 0.88759346, 0.01611863,\n",
              "       0.12695803, 0.77716246, 0.04589523, 0.71099869, 0.97104614,\n",
              "       0.87168293, 0.71016165, 0.95850974, 0.42981334, 0.87287891,\n",
              "       0.35595767, 0.92976365, 0.14877766, 0.94002901, 0.8327162 ,\n",
              "       0.84605484, 0.12392301, 0.5964869 , 0.01639248, 0.72118437,\n",
              "       0.00773751, 0.08482228, 0.22549841, 0.87512453, 0.36357632,\n",
              "       0.53995994, 0.56810321, 0.22546336, 0.57214677])"
            ]
          },
          "metadata": {
            "tags": []
          },
          "execution_count": 58
        }
      ]
    },
    {
      "cell_type": "code",
      "metadata": {
        "id": "vBJm_OwPJSc9"
      },
      "source": [
        "arr = np.array([1,2,3])\n"
      ],
      "execution_count": 59,
      "outputs": []
    },
    {
      "cell_type": "code",
      "metadata": {
        "colab": {
          "base_uri": "https://localhost:8080/"
        },
        "id": "SZvuVHgKJbS8",
        "outputId": "f9c1dd61-d9cc-443f-8261-a87466c1fa5c"
      },
      "source": [
        "arr1 = np.append(arr, 4)    \n",
        "print(arr1)\n"
      ],
      "execution_count": 60,
      "outputs": [
        {
          "output_type": "stream",
          "text": [
            "[1 2 3 4]\n"
          ],
          "name": "stdout"
        }
      ]
    },
    {
      "cell_type": "code",
      "metadata": {
        "colab": {
          "base_uri": "https://localhost:8080/"
        },
        "id": "vsXz857LJe54",
        "outputId": "d701cdcf-2474-4096-bb8f-e516569814a3"
      },
      "source": [
        "arr2 = np.append(arr, [4,5,6])    \n",
        "print(arr2)\n"
      ],
      "execution_count": 61,
      "outputs": [
        {
          "output_type": "stream",
          "text": [
            "[1 2 3 4 5 6]\n"
          ],
          "name": "stdout"
        }
      ]
    },
    {
      "cell_type": "code",
      "metadata": {
        "colab": {
          "base_uri": "https://localhost:8080/"
        },
        "id": "DMIEShNnJgFh",
        "outputId": "66fbd80b-9ec0-4727-bb09-1dd3bbddc6ab"
      },
      "source": [
        "arr4 = np.delete(arr2, 0)    \n",
        "arr4"
      ],
      "execution_count": 64,
      "outputs": [
        {
          "output_type": "execute_result",
          "data": {
            "text/plain": [
              "array([2, 3, 4, 5, 6])"
            ]
          },
          "metadata": {
            "tags": []
          },
          "execution_count": 64
        }
      ]
    },
    {
      "cell_type": "code",
      "metadata": {
        "id": "JGaZJccwJtoA"
      },
      "source": [
        "arr1 = np.array([[1,2,3,4], [1,2,3,4]])\n",
        "arr2 = np.array([[5,6,7,8], [5,6,7,8]])\n"
      ],
      "execution_count": 68,
      "outputs": []
    },
    {
      "cell_type": "code",
      "metadata": {
        "colab": {
          "base_uri": "https://localhost:8080/"
        },
        "id": "RFhS03DsJ37-",
        "outputId": "94785965-d3dd-4ace-f4f6-efb060b76720"
      },
      "source": [
        "print(arr1)\n",
        "print(arr2)"
      ],
      "execution_count": 69,
      "outputs": [
        {
          "output_type": "stream",
          "text": [
            "[[1 2 3 4]\n",
            " [1 2 3 4]]\n",
            "[[5 6 7 8]\n",
            " [5 6 7 8]]\n"
          ],
          "name": "stdout"
        }
      ]
    },
    {
      "cell_type": "code",
      "metadata": {
        "colab": {
          "base_uri": "https://localhost:8080/"
        },
        "id": "_U-6HLFcJ6cJ",
        "outputId": "5e5f0be5-a127-4036-c4f1-ff4af947145b"
      },
      "source": [
        "cat = np.concatenate((arr1, arr2), axis=0)        \n",
        "print(cat)\n"
      ],
      "execution_count": 70,
      "outputs": [
        {
          "output_type": "stream",
          "text": [
            "[[1 2 3 4]\n",
            " [1 2 3 4]\n",
            " [5 6 7 8]\n",
            " [5 6 7 8]]\n"
          ],
          "name": "stdout"
        }
      ]
    },
    {
      "cell_type": "code",
      "metadata": {
        "colab": {
          "base_uri": "https://localhost:8080/"
        },
        "id": "_XP9NvbRJ755",
        "outputId": "84b9217d-230c-4922-86ca-79e89fd24531"
      },
      "source": [
        "cat1 = np.concatenate((arr1, arr2), axis=1)    \n",
        "print(cat1)\n"
      ],
      "execution_count": 71,
      "outputs": [
        {
          "output_type": "stream",
          "text": [
            "[[1 2 3 4 5 6 7 8]\n",
            " [1 2 3 4 5 6 7 8]]\n"
          ],
          "name": "stdout"
        }
      ]
    },
    {
      "cell_type": "code",
      "metadata": {
        "id": "jZvTvOITJ_0E"
      },
      "source": [
        ""
      ],
      "execution_count": null,
      "outputs": []
    },
    {
      "cell_type": "code",
      "metadata": {
        "id": "zux5B-UgJqLw"
      },
      "source": [
        ""
      ],
      "execution_count": null,
      "outputs": []
    },
    {
      "cell_type": "code",
      "metadata": {
        "id": "C30ApnfIJje3"
      },
      "source": [
        ""
      ],
      "execution_count": null,
      "outputs": []
    },
    {
      "cell_type": "code",
      "metadata": {
        "id": "kyJPUV_TG1NR"
      },
      "source": [
        ""
      ],
      "execution_count": null,
      "outputs": []
    },
    {
      "cell_type": "code",
      "metadata": {
        "id": "1afJoDMmE5lt"
      },
      "source": [
        ""
      ],
      "execution_count": 5,
      "outputs": []
    },
    {
      "cell_type": "code",
      "metadata": {
        "id": "HMZCIZf7E5q8"
      },
      "source": [
        ""
      ],
      "execution_count": 5,
      "outputs": []
    },
    {
      "cell_type": "code",
      "metadata": {
        "id": "wECD6ctUE5tM"
      },
      "source": [
        ""
      ],
      "execution_count": 5,
      "outputs": []
    },
    {
      "cell_type": "code",
      "metadata": {
        "id": "FYij2z7gE5vg"
      },
      "source": [
        ""
      ],
      "execution_count": null,
      "outputs": []
    },
    {
      "cell_type": "code",
      "metadata": {
        "id": "Vk0a9eJaEDB9"
      },
      "source": [
        ""
      ],
      "execution_count": 1,
      "outputs": []
    },
    {
      "cell_type": "code",
      "metadata": {
        "id": "MwTyP_BlEDEA"
      },
      "source": [
        ""
      ],
      "execution_count": 1,
      "outputs": []
    },
    {
      "cell_type": "code",
      "metadata": {
        "id": "7UeaRzZrEDGE"
      },
      "source": [
        ""
      ],
      "execution_count": 1,
      "outputs": []
    },
    {
      "cell_type": "code",
      "metadata": {
        "id": "DkFQXbYvEDII"
      },
      "source": [
        ""
      ],
      "execution_count": null,
      "outputs": []
    }
  ]
}